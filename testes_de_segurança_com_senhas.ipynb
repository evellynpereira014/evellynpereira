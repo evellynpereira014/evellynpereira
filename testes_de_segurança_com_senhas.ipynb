{
  "nbformat": 4,
  "nbformat_minor": 0,
  "metadata": {
    "colab": {
      "provenance": [],
      "authorship_tag": "ABX9TyMToyndIYt6/C56tWZpEsRc",
      "include_colab_link": true
    },
    "kernelspec": {
      "name": "python3",
      "display_name": "Python 3"
    },
    "language_info": {
      "name": "python"
    }
  },
  "cells": [
    {
      "cell_type": "markdown",
      "metadata": {
        "id": "view-in-github",
        "colab_type": "text"
      },
      "source": [
        "<a href=\"https://colab.research.google.com/github/evellynpereira014/evellynpereira/blob/main/testes_de_seguran%C3%A7a_com_senhas.ipynb\" target=\"_parent\"><img src=\"https://colab.research.google.com/assets/colab-badge.svg\" alt=\"Open In Colab\"/></a>"
      ]
    },
    {
      "cell_type": "code",
      "source": [
        "# @title testes de senhas\n",
        "import string\n",
        "\n",
        "def verificar_senha(senha):\n",
        "  \"\"\"Verifica a força da senha e retorna uma classificação.\"\"\"\n",
        "\n",
        "  # Conjunto de caracteres especiais (pode ser personalizado)\n",
        "  caracteres_especiais = string.punctuation\n",
        "\n",
        "  # Verifica a presença de cada tipo de caractere\n",
        "  tem_maiúscula = any(c.isupper() for c in senha)\n",
        "  tem_minúscula = any(c.islower() for c in senha)\n",
        "  tem_numero = any(c.isdigit() for c in senha)\n",
        "  tem_especial = any(c in caracteres_especiais for c in senha)\n",
        "\n",
        "  # Calcula a força da senha com base nos critérios\n",
        "  if len(senha) < 8:\n",
        "    return \"Fraca\"\n",
        "  elif sum([tem_maiúscula, tem_minúscula, tem_numero, tem_especial]) >= 3:\n",
        "    return \"Forte\"\n",
        "  else:\n",
        "    return \"Média\"\n",
        "\n",
        "# Loop principal para pedir a senha ao usuário\n",
        "while True:\n",
        "  senha = input(\"Digite sua senha (ou 'sair' para encerrar): \")\n",
        "  if senha.lower() == 'sair':\n",
        "    break\n",
        "\n",
        "  classificacao = verificar_senha(senha)\n",
        "  print(f\"Sua senha é {classificacao}.\")\n",
        "\n",
        "  # Dicas para criar senhas mais fortes\n",
        "  if classificacao == \"Fraca\":\n",
        "    print(\"Dica: Tente usar letras maiúsculas e minúsculas, números e símbolos para criar uma senha mais forte.\")\n",
        "  elif classificacao == \"Média\":\n",
        "    print(\"Dica: Adicione mais tipos de caracteres para deixar sua senha ainda mais segura.\")"
      ],
      "metadata": {
        "colab": {
          "base_uri": "https://localhost:8080/"
        },
        "id": "eZQFdeCHbUnl",
        "outputId": "12a704d7-bd65-4260-bd86-f7b53308150e"
      },
      "execution_count": null,
      "outputs": [
        {
          "name": "stdout",
          "output_type": "stream",
          "text": [
            "Digite sua senha (ou 'sair' para encerrar): Afakmdko\n",
            "Sua senha é Média.\n",
            "Dica: Adicione mais tipos de caracteres para deixar sua senha ainda mais segura.\n",
            "Digite sua senha (ou 'sair' para encerrar): ABSIFVXV@\n",
            "Sua senha é Média.\n",
            "Dica: Adicione mais tipos de caracteres para deixar sua senha ainda mais segura.\n",
            "Digite sua senha (ou 'sair' para encerrar): \n",
            "Sua senha é Fraca.\n",
            "Dica: Tente usar letras maiúsculas e minúsculas, números e símbolos para criar uma senha mais forte.\n",
            "Digite sua senha (ou 'sair' para encerrar): Amudshb@\n",
            "Sua senha é Forte.\n",
            "Digite sua senha (ou 'sair' para encerrar): sair\n"
          ]
        }
      ]
    }
  ]
}