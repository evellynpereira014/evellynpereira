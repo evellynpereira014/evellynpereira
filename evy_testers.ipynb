{
  "nbformat": 4,
  "nbformat_minor": 0,
  "metadata": {
    "colab": {
      "provenance": [],
      "authorship_tag": "ABX9TyOef4boLRSK9G3Wm2XA4pgr",
      "include_colab_link": true
    },
    "kernelspec": {
      "name": "python3",
      "display_name": "Python 3"
    },
    "language_info": {
      "name": "python"
    }
  },
  "cells": [
    {
      "cell_type": "markdown",
      "metadata": {
        "id": "view-in-github",
        "colab_type": "text"
      },
      "source": [
        "<a href=\"https://colab.research.google.com/github/evellynpereira014/evellynpereira/blob/main/evy_testers.ipynb\" target=\"_parent\"><img src=\"https://colab.research.google.com/assets/colab-badge.svg\" alt=\"Open In Colab\"/></a>"
      ]
    },
    {
      "cell_type": "code",
      "source": [
        "# @title olá mundo!\n",
        "\n",
        "print(\"Olá mundo! Seja bem vindo ao mundo da evy com programação em python\")"
      ],
      "metadata": {
        "colab": {
          "base_uri": "https://localhost:8080/"
        },
        "cellView": "form",
        "id": "Oxi0LnjLPVYB",
        "outputId": "4fb62668-0128-480c-f97f-03f0d96c90ac"
      },
      "execution_count": null,
      "outputs": [
        {
          "output_type": "stream",
          "name": "stdout",
          "text": [
            "Olá mundo! Seja bem vindo ao mundo da evy com programação em python\n"
          ]
        }
      ]
    },
    {
      "cell_type": "code",
      "source": [
        "# @title numeração\n",
        "numero1 = int(input(\"Digite o numero: \"))\n",
        "numero2 = int(input(\"Digite o numero: \"))\n",
        "numero3 = int(input(\"Digite o numero: \"))\n",
        "soma = numero1 + numero2 + numero3\n",
        "subtracao = numero1 - numero2 - numero3\n",
        "multiplicacao = numero1 * numero2 * numero3\n",
        "divisao = numero1 / numero2 / numero3\n",
        "print(\"Soma:\", soma)\n",
        "print(\"Subtração:\", subtracao)\n",
        "print(\"Multiplicação:\", multiplicacao)\n",
        "print(\"Divisão:\", divisao)"
      ],
      "metadata": {
        "colab": {
          "base_uri": "https://localhost:8080/"
        },
        "cellView": "form",
        "id": "tX_JJ5wMVpZ4",
        "outputId": "5efb16bc-4bf9-4b75-8064-cd62749519d2"
      },
      "execution_count": null,
      "outputs": [
        {
          "output_type": "stream",
          "name": "stdout",
          "text": [
            "Digite o numero: 4\n",
            "Digite o numero: 5\n",
            "Digite o numero: 9\n",
            "Soma: 18\n",
            "Subtração: -10\n",
            "Multiplicação: 180\n",
            "Divisão: 0.08888888888888889\n"
          ]
        }
      ]
    },
    {
      "cell_type": "code",
      "source": [
        "# @title nome\n",
        "nome = input(\"Digite seu nome: \")\n",
        "print(\"olá, \", nome + \"!\" )\n",
        "data = input(\"Digite sua data de nascimento: \")\n",
        "curso = input(\"Digite seu curso: \")"
      ],
      "metadata": {
        "colab": {
          "base_uri": "https://localhost:8080/"
        },
        "cellView": "form",
        "id": "uXDC8lxDX2hL",
        "outputId": "535f4b82-9bb4-49d1-8c5f-b55050c2d455"
      },
      "execution_count": null,
      "outputs": [
        {
          "name": "stdout",
          "output_type": "stream",
          "text": [
            "Digite seu nome: evellyn\n",
            "olá,  evellyn!\n",
            "Digite sua data de nascimento: 14/09/2007\n",
            "Digite seu curso: desenvolvimento de sistemas\n"
          ]
        }
      ]
    },
    {
      "cell_type": "code",
      "source": [
        "# @title if e else\n",
        "numero = int(input(\"Digite um número: \"))\n",
        "if numero % 2 == 0:\n",
        "  print(\"O número é par.\")\n",
        "else:\n",
        "  print(\"O número é ímpar.\")"
      ],
      "metadata": {
        "colab": {
          "base_uri": "https://localhost:8080/"
        },
        "id": "RnixMk7sZFds",
        "outputId": "ad680029-e3be-4f30-eaac-b11e29bd1dac"
      },
      "execution_count": null,
      "outputs": [
        {
          "output_type": "stream",
          "name": "stdout",
          "text": [
            "Digite um número: 4\n",
            "O número é par.\n"
          ]
        }
      ]
    },
    {
      "cell_type": "code",
      "source": [
        "# @title repetiçao\n",
        "for i in range(1, 11):\n",
        "  print(i)"
      ],
      "metadata": {
        "colab": {
          "base_uri": "https://localhost:8080/"
        },
        "cellView": "form",
        "id": "uxjOHFoJbFXj",
        "outputId": "6bd17018-b703-43b6-92ea-994caa96d223"
      },
      "execution_count": null,
      "outputs": [
        {
          "output_type": "stream",
          "name": "stdout",
          "text": [
            "1\n",
            "2\n",
            "3\n",
            "4\n",
            "5\n",
            "6\n",
            "7\n",
            "8\n",
            "9\n",
            "10\n"
          ]
        }
      ]
    },
    {
      "cell_type": "code",
      "source": [
        "# @title calculadora simples\n",
        "num1 = float(input(\"Digite o primeiro número: \"))\n",
        "num2 = float(input(\"Digite o segundo número: \"))\n",
        "operacao = input(\"Digite a operação (+, -, *, /, %, ==, >, < , **): \")\n",
        "\n",
        "if operacao == \"+\":\n",
        "  resultado = num1 + num2\n",
        "elif operacao == \"-\":\n",
        "  resultado = num1 - num2\n",
        "elif operacao == \"*\":\n",
        "  resultado = num1 * num2\n",
        "elif operacao == \"/\":\n",
        "  resultado = num1 / num2\n",
        "elif operacao > \"%\":\n",
        "  resultado = num1 % num2\n",
        "elif operacao > \"==\":\n",
        "  resultado = num1 == num2\n",
        "elif operacao > \">\":\n",
        "  resultado = num1 > num2\n",
        "elif operacao > \"<\":\n",
        "  resultado = num1 = num2\n",
        "elif operacao > \"**\":\n",
        "  resultado = num1 = num2\n",
        "else:\n",
        "  print(\"Operação inválida.\")\n",
        "\n",
        "print(\"Resultado:\", resultado)"
      ],
      "metadata": {
        "colab": {
          "base_uri": "https://localhost:8080/"
        },
        "id": "t_X8ipjeFjeq",
        "outputId": "ef28f920-2fbc-4ce3-aa4d-2d8dc4033bda"
      },
      "execution_count": null,
      "outputs": [
        {
          "output_type": "stream",
          "name": "stdout",
          "text": [
            "Digite o primeiro número: 3\n",
            "Digite o segundo número: 4\n",
            "Digite a operação (+, -, *, /, %, ==, >, < , **): **\n",
            "Resultado: 3.0\n"
          ]
        }
      ]
    },
    {
      "cell_type": "code",
      "source": [
        "# @title lista\n",
        "nomes = [\"Alice\", \"Bob\", \"Charlie\" , \"Evellyn\" , \"Joao\" , \"Marley\" , \"Richard\" , \"Bel\"]\n",
        "for nome in nomes:\n",
        "  print(nome)"
      ],
      "metadata": {
        "colab": {
          "base_uri": "https://localhost:8080/"
        },
        "cellView": "form",
        "id": "ee97RxMnKa8q",
        "outputId": "754b2632-3eb8-4c76-dd43-1bc691afdb64"
      },
      "execution_count": null,
      "outputs": [
        {
          "output_type": "stream",
          "name": "stdout",
          "text": [
            "Alice\n",
            "Bob\n",
            "Charlie\n",
            "Evellyn\n",
            "Joao\n",
            "Marley\n",
            "Richard\n",
            "Bel\n"
          ]
        }
      ]
    },
    {
      "cell_type": "code",
      "source": [
        "# @title funçao\n",
        "import math\n",
        "def calcular_area_circulo(raio):\n",
        "  area = math.pi * raio**2\n",
        "  return area\n",
        "raio = float(input(\"Digite o raio do círculo: \"))\n",
        "area = calcular_area_circulo(raio)\n",
        "print(\"A área do círculo é:\", area)"
      ],
      "metadata": {
        "colab": {
          "base_uri": "https://localhost:8080/"
        },
        "cellView": "form",
        "id": "6FglgNUbLcXr",
        "outputId": "f7647cec-a021-4de3-b6ea-a7a76beb5dec"
      },
      "execution_count": null,
      "outputs": [
        {
          "output_type": "stream",
          "name": "stdout",
          "text": [
            "Digite o raio do círculo: 4\n",
            "A área do círculo é: 50.26548245743669\n"
          ]
        }
      ]
    }
  ]
}